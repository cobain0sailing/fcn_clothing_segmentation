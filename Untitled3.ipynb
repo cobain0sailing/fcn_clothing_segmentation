{
 "cells": [
  {
   "cell_type": "code",
   "execution_count": 1,
   "metadata": {
    "collapsed": true
   },
   "outputs": [],
   "source": [
    "a = 2 // 1"
   ]
  },
  {
   "cell_type": "code",
   "execution_count": 2,
   "metadata": {
    "collapsed": false
   },
   "outputs": [
    {
     "data": {
      "text/plain": [
       "2"
      ]
     },
     "execution_count": 2,
     "metadata": {},
     "output_type": "execute_result"
    }
   ],
   "source": [
    "a"
   ]
  },
  {
   "cell_type": "code",
   "execution_count": 3,
   "metadata": {
    "collapsed": true
   },
   "outputs": [],
   "source": [
    "a = 2 / 1"
   ]
  },
  {
   "cell_type": "code",
   "execution_count": 4,
   "metadata": {
    "collapsed": false
   },
   "outputs": [
    {
     "data": {
      "text/plain": [
       "2.0"
      ]
     },
     "execution_count": 4,
     "metadata": {},
     "output_type": "execute_result"
    }
   ],
   "source": [
    "a"
   ]
  },
  {
   "cell_type": "code",
   "execution_count": 5,
   "metadata": {
    "collapsed": false
   },
   "outputs": [
    {
     "data": {
      "text/plain": [
       "float"
      ]
     },
     "execution_count": 5,
     "metadata": {},
     "output_type": "execute_result"
    }
   ],
   "source": [
    "type(a)"
   ]
  },
  {
   "cell_type": "code",
   "execution_count": 6,
   "metadata": {
    "collapsed": true
   },
   "outputs": [],
   "source": [
    "a = 2 // 1"
   ]
  },
  {
   "cell_type": "code",
   "execution_count": 7,
   "metadata": {
    "collapsed": false
   },
   "outputs": [
    {
     "data": {
      "text/plain": [
       "int"
      ]
     },
     "execution_count": 7,
     "metadata": {},
     "output_type": "execute_result"
    }
   ],
   "source": [
    "type(a)"
   ]
  },
  {
   "cell_type": "code",
   "execution_count": 8,
   "metadata": {
    "collapsed": true
   },
   "outputs": [],
   "source": [
    "a = 5 // 2"
   ]
  },
  {
   "cell_type": "code",
   "execution_count": 9,
   "metadata": {
    "collapsed": false
   },
   "outputs": [
    {
     "data": {
      "text/plain": [
       "int"
      ]
     },
     "execution_count": 9,
     "metadata": {},
     "output_type": "execute_result"
    }
   ],
   "source": [
    "type(a)"
   ]
  },
  {
   "cell_type": "code",
   "execution_count": 10,
   "metadata": {
    "collapsed": false
   },
   "outputs": [
    {
     "data": {
      "text/plain": [
       "2"
      ]
     },
     "execution_count": 10,
     "metadata": {},
     "output_type": "execute_result"
    }
   ],
   "source": [
    "a"
   ]
  },
  {
   "cell_type": "code",
   "execution_count": 12,
   "metadata": {
    "collapsed": true
   },
   "outputs": [],
   "source": [
    "import numpy as np"
   ]
  },
  {
   "cell_type": "code",
   "execution_count": 13,
   "metadata": {
    "collapsed": false
   },
   "outputs": [
    {
     "data": {
      "text/plain": [
       "array([-1. , -0.5,  0. ,  0.5,  1. ])"
      ]
     },
     "execution_count": 13,
     "metadata": {},
     "output_type": "execute_result"
    }
   ],
   "source": [
    "np.ogrid[-1:1:5j]"
   ]
  },
  {
   "cell_type": "code",
   "execution_count": 14,
   "metadata": {
    "collapsed": false
   },
   "outputs": [
    {
     "data": {
      "text/plain": [
       "[array([[0],\n",
       "        [1],\n",
       "        [2],\n",
       "        [3],\n",
       "        [4]]), array([[0, 1, 2, 3, 4]])]"
      ]
     },
     "execution_count": 14,
     "metadata": {},
     "output_type": "execute_result"
    }
   ],
   "source": [
    "np.ogrid[0:5,0:5]"
   ]
  },
  {
   "cell_type": "code",
   "execution_count": 16,
   "metadata": {
    "collapsed": false
   },
   "outputs": [],
   "source": [
    "og = np.ogrid[:5,:5]"
   ]
  },
  {
   "cell_type": "code",
   "execution_count": 17,
   "metadata": {
    "collapsed": false
   },
   "outputs": [
    {
     "data": {
      "text/plain": [
       "array([[0],\n",
       "       [1],\n",
       "       [2],\n",
       "       [3],\n",
       "       [4]])"
      ]
     },
     "execution_count": 17,
     "metadata": {},
     "output_type": "execute_result"
    }
   ],
   "source": [
    "og[0]"
   ]
  },
  {
   "cell_type": "code",
   "execution_count": 18,
   "metadata": {
    "collapsed": false
   },
   "outputs": [
    {
     "data": {
      "text/plain": [
       "array([[0, 1, 2, 3, 4]])"
      ]
     },
     "execution_count": 18,
     "metadata": {},
     "output_type": "execute_result"
    }
   ],
   "source": [
    "og[1]"
   ]
  },
  {
   "cell_type": "code",
   "execution_count": 19,
   "metadata": {
    "collapsed": false
   },
   "outputs": [
    {
     "data": {
      "text/plain": [
       "1"
      ]
     },
     "execution_count": 19,
     "metadata": {},
     "output_type": "execute_result"
    }
   ],
   "source": [
    "abs(-1)"
   ]
  },
  {
   "cell_type": "code",
   "execution_count": 20,
   "metadata": {
    "collapsed": false
   },
   "outputs": [
    {
     "data": {
      "text/plain": [
       "100"
      ]
     },
     "execution_count": 20,
     "metadata": {},
     "output_type": "execute_result"
    }
   ],
   "source": [
    "abs(-100)"
   ]
  },
  {
   "cell_type": "code",
   "execution_count": 21,
   "metadata": {
    "collapsed": false
   },
   "outputs": [
    {
     "data": {
      "text/plain": [
       "10"
      ]
     },
     "execution_count": 21,
     "metadata": {},
     "output_type": "execute_result"
    }
   ],
   "source": [
    "abs(10)"
   ]
  },
  {
   "cell_type": "code",
   "execution_count": 22,
   "metadata": {
    "collapsed": false
   },
   "outputs": [
    {
     "data": {
      "text/plain": [
       "array([[ 0,  0,  0,  0,  0],\n",
       "       [ 0,  1,  2,  3,  4],\n",
       "       [ 0,  2,  4,  6,  8],\n",
       "       [ 0,  3,  6,  9, 12],\n",
       "       [ 0,  4,  8, 12, 16]])"
      ]
     },
     "execution_count": 22,
     "metadata": {},
     "output_type": "execute_result"
    }
   ],
   "source": [
    "og[0] * og[1]"
   ]
  },
  {
   "cell_type": "code",
   "execution_count": 23,
   "metadata": {
    "collapsed": false
   },
   "outputs": [
    {
     "data": {
      "text/plain": [
       "1.6666666666666667"
      ]
     },
     "execution_count": 23,
     "metadata": {},
     "output_type": "execute_result"
    }
   ],
   "source": [
    "5/3"
   ]
  },
  {
   "cell_type": "code",
   "execution_count": 24,
   "metadata": {
    "collapsed": false
   },
   "outputs": [
    {
     "data": {
      "text/plain": [
       "0.875"
      ]
     },
     "execution_count": 24,
     "metadata": {},
     "output_type": "execute_result"
    }
   ],
   "source": [
    "7/8"
   ]
  },
  {
   "cell_type": "code",
   "execution_count": 37,
   "metadata": {
    "collapsed": true
   },
   "outputs": [],
   "source": [
    "def upsample_filt(size):\n",
    "    factor = (size + 1) // 2\n",
    "    if size % 2 == 1:\n",
    "        center = factor - 1\n",
    "    else:\n",
    "        center = factor -0.5\n",
    "    og = np.ogrid[:size,:size]\n",
    "    return (1 - abs(og[0] - center) / factor) * (1 - abs(og[1] - center) / factor)"
   ]
  },
  {
   "cell_type": "code",
   "execution_count": 38,
   "metadata": {
    "collapsed": false
   },
   "outputs": [
    {
     "data": {
      "text/plain": [
       "array([[ 0.11111111,  0.22222222,  0.33333333,  0.22222222,  0.11111111],\n",
       "       [ 0.22222222,  0.44444444,  0.66666667,  0.44444444,  0.22222222],\n",
       "       [ 0.33333333,  0.66666667,  1.        ,  0.66666667,  0.33333333],\n",
       "       [ 0.22222222,  0.44444444,  0.66666667,  0.44444444,  0.22222222],\n",
       "       [ 0.11111111,  0.22222222,  0.33333333,  0.22222222,  0.11111111]])"
      ]
     },
     "execution_count": 38,
     "metadata": {},
     "output_type": "execute_result"
    }
   ],
   "source": [
    "upsample_file(5)"
   ]
  },
  {
   "cell_type": "code",
   "execution_count": 39,
   "metadata": {
    "collapsed": true
   },
   "outputs": [],
   "source": [
    "def bilinear_upsample_weights(factor, number_of_classes):\n",
    "    \"\"\"\n",
    "    使用双线性卷积核，为转置卷积创建权重矩阵\n",
    "    初始化\n",
    "    \"\"\"\n",
    "\n",
    "    filter_size = get_kernel_size(factor)\n",
    "\n",
    "    weights = np.zeros((filter_size,\n",
    "                        filter_size,\n",
    "                        number_of_classes,\n",
    "                        number_of_classes), dtype=np.float32)\n",
    "\n",
    "    upsample_kernel = upsample_filt(filter_size)\n",
    "\n",
    "    for i in range(number_of_classes):\n",
    "\n",
    "        weights[:, :, i, i] = upsample_kernel\n",
    "\n",
    "    return weights"
   ]
  },
  {
   "cell_type": "code",
   "execution_count": 40,
   "metadata": {
    "collapsed": true
   },
   "outputs": [],
   "source": [
    "def get_kernel_size(factor):\n",
    "    \"\"\"\n",
    "    给定所需的上采样因子，确定卷积核的大小\n",
    "    \"\"\"\n",
    "    return 2 * factor - factor % 2"
   ]
  },
  {
   "cell_type": "code",
   "execution_count": 41,
   "metadata": {
    "collapsed": false
   },
   "outputs": [
    {
     "data": {
      "text/plain": [
       "array([[[[ 0.11111111,  0.        ],\n",
       "         [ 0.        ,  0.11111111]],\n",
       "\n",
       "        [[ 0.22222222,  0.        ],\n",
       "         [ 0.        ,  0.22222222]],\n",
       "\n",
       "        [[ 0.33333334,  0.        ],\n",
       "         [ 0.        ,  0.33333334]],\n",
       "\n",
       "        [[ 0.22222222,  0.        ],\n",
       "         [ 0.        ,  0.22222222]],\n",
       "\n",
       "        [[ 0.11111111,  0.        ],\n",
       "         [ 0.        ,  0.11111111]]],\n",
       "\n",
       "\n",
       "       [[[ 0.22222222,  0.        ],\n",
       "         [ 0.        ,  0.22222222]],\n",
       "\n",
       "        [[ 0.44444445,  0.        ],\n",
       "         [ 0.        ,  0.44444445]],\n",
       "\n",
       "        [[ 0.66666669,  0.        ],\n",
       "         [ 0.        ,  0.66666669]],\n",
       "\n",
       "        [[ 0.44444445,  0.        ],\n",
       "         [ 0.        ,  0.44444445]],\n",
       "\n",
       "        [[ 0.22222222,  0.        ],\n",
       "         [ 0.        ,  0.22222222]]],\n",
       "\n",
       "\n",
       "       [[[ 0.33333334,  0.        ],\n",
       "         [ 0.        ,  0.33333334]],\n",
       "\n",
       "        [[ 0.66666669,  0.        ],\n",
       "         [ 0.        ,  0.66666669]],\n",
       "\n",
       "        [[ 1.        ,  0.        ],\n",
       "         [ 0.        ,  1.        ]],\n",
       "\n",
       "        [[ 0.66666669,  0.        ],\n",
       "         [ 0.        ,  0.66666669]],\n",
       "\n",
       "        [[ 0.33333334,  0.        ],\n",
       "         [ 0.        ,  0.33333334]]],\n",
       "\n",
       "\n",
       "       [[[ 0.22222222,  0.        ],\n",
       "         [ 0.        ,  0.22222222]],\n",
       "\n",
       "        [[ 0.44444445,  0.        ],\n",
       "         [ 0.        ,  0.44444445]],\n",
       "\n",
       "        [[ 0.66666669,  0.        ],\n",
       "         [ 0.        ,  0.66666669]],\n",
       "\n",
       "        [[ 0.44444445,  0.        ],\n",
       "         [ 0.        ,  0.44444445]],\n",
       "\n",
       "        [[ 0.22222222,  0.        ],\n",
       "         [ 0.        ,  0.22222222]]],\n",
       "\n",
       "\n",
       "       [[[ 0.11111111,  0.        ],\n",
       "         [ 0.        ,  0.11111111]],\n",
       "\n",
       "        [[ 0.22222222,  0.        ],\n",
       "         [ 0.        ,  0.22222222]],\n",
       "\n",
       "        [[ 0.33333334,  0.        ],\n",
       "         [ 0.        ,  0.33333334]],\n",
       "\n",
       "        [[ 0.22222222,  0.        ],\n",
       "         [ 0.        ,  0.22222222]],\n",
       "\n",
       "        [[ 0.11111111,  0.        ],\n",
       "         [ 0.        ,  0.11111111]]]], dtype=float32)"
      ]
     },
     "execution_count": 41,
     "metadata": {},
     "output_type": "execute_result"
    }
   ],
   "source": [
    "bilinear_upsample_weights(3,2)"
   ]
  },
  {
   "cell_type": "code",
   "execution_count": 43,
   "metadata": {
    "collapsed": false
   },
   "outputs": [],
   "source": [
    "from matplotlib import pyplot as plt\n",
    "\n",
    "fig_size = [15, 4]\n",
    "plt.rcParams[\"figure.figsize\"] = fig_size"
   ]
  },
  {
   "cell_type": "code",
   "execution_count": null,
   "metadata": {
    "collapsed": false
   },
   "outputs": [],
   "source": []
  },
  {
   "cell_type": "code",
   "execution_count": null,
   "metadata": {
    "collapsed": true
   },
   "outputs": [],
   "source": []
  }
 ],
 "metadata": {
  "kernelspec": {
   "display_name": "Python 3",
   "language": "python",
   "name": "python3"
  },
  "language_info": {
   "codemirror_mode": {
    "name": "ipython",
    "version": 3
   },
   "file_extension": ".py",
   "mimetype": "text/x-python",
   "name": "python",
   "nbconvert_exporter": "python",
   "pygments_lexer": "ipython3",
   "version": "3.5.3"
  }
 },
 "nbformat": 4,
 "nbformat_minor": 2
}
